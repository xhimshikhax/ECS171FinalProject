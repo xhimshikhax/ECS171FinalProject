{
 "cells": [
  {
   "cell_type": "code",
   "execution_count": 7,
   "id": "0b02ec4c",
   "metadata": {},
   "outputs": [],
   "source": [
    "import pandas as pd\n",
    "import numpy as np\n",
    "import matplotlib.pyplot as plt\n",
    "import operator\n",
    "\n",
    "from sklearn.linear_model import LinearRegression\n",
    "from sklearn.model_selection import train_test_split\n",
    "from sklearn.neural_network import MLPClassifier\n",
    "from sklearn.preprocessing import MinMaxScaler\n",
    "from sklearn.metrics import mean_squared_error, r2_score\n",
    "from sklearn.preprocessing import PolynomialFeatures"
   ]
  },
  {
   "cell_type": "code",
   "execution_count": 8,
   "id": "aca4d795",
   "metadata": {},
   "outputs": [],
   "source": [
    "# load data \n",
    "data = pd.read_csv('./project.csv')\n",
    "# mpg, cylinders, displacement, horsepower, weight, acceleration, model year, origin, car name\n",
    "\n",
    "# split data into train & test\n",
    "train, test = train_test_split(data, test_size=0.2, random_state=21)\n",
    "\n",
    "# split data into inputs & output\n",
    "X_train, y_train = train.drop(columns=['mpg']) ,train['mpg']\n",
    "X_test, y_test = test.drop(columns=['mpg']), test['mpg']"
   ]
  },
  {
   "cell_type": "code",
   "execution_count": null,
   "id": "ec2a6c05",
   "metadata": {},
   "outputs": [],
   "source": []
  }
 ],
 "metadata": {
  "kernelspec": {
   "display_name": "Python 3 (ipykernel)",
   "language": "python",
   "name": "python3"
  },
  "language_info": {
   "codemirror_mode": {
    "name": "ipython",
    "version": 3
   },
   "file_extension": ".py",
   "mimetype": "text/x-python",
   "name": "python",
   "nbconvert_exporter": "python",
   "pygments_lexer": "ipython3",
   "version": "3.10.9"
  }
 },
 "nbformat": 4,
 "nbformat_minor": 5
}
